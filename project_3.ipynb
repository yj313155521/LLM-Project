{
 "cells": [
  {
   "cell_type": "markdown",
   "metadata": {},
   "source": [
    "# Comparison between different prompt engineering tactics"
   ]
  },
  {
   "cell_type": "markdown",
   "metadata": {},
   "source": [
    "## Prepare model and dataset"
   ]
  },
  {
   "cell_type": "markdown",
   "metadata": {},
   "source": [
    "### prepare model"
   ]
  },
  {
   "cell_type": "code",
   "execution_count": 2,
   "metadata": {},
   "outputs": [
    {
     "name": "stderr",
     "output_type": "stream",
     "text": [
      "c:\\Users\\yj313\\AppData\\Local\\Programs\\Python\\Python39\\lib\\site-packages\\tqdm\\auto.py:21: TqdmWarning: IProgress not found. Please update jupyter and ipywidgets. See https://ipywidgets.readthedocs.io/en/stable/user_install.html\n",
      "  from .autonotebook import tqdm as notebook_tqdm\n"
     ]
    }
   ],
   "source": [
    "import os\n",
    "from ctransformers import AutoModelForCausalLM, AutoTokenizer\n",
    "model_name = \"TheBloke/zephyr-7B-alpha-GGUF\"\n",
    "model_file = \"zephyr-7b-alpha.Q2_K.gguf\""
   ]
  },
  {
   "cell_type": "code",
   "execution_count": 3,
   "metadata": {},
   "outputs": [
    {
     "name": "stdout",
     "output_type": "stream",
     "text": [
      "Using model: TheBloke/zephyr-7B-alpha-GGUF\n"
     ]
    },
    {
     "name": "stderr",
     "output_type": "stream",
     "text": [
      "Fetching 1 files: 100%|██████████| 1/1 [00:00<?, ?it/s]\n",
      "Fetching 1 files: 100%|██████████| 1/1 [00:00<?, ?it/s]\n"
     ]
    }
   ],
   "source": [
    "print(f\"Using model: {model_name}\")\n",
    "zephyr_model = AutoModelForCausalLM.from_pretrained(model_name, model_file=model_file, model_type=\"llama\", gpu_layers=0, hf=True)\n",
    "zephyr_tokenizer = AutoTokenizer.from_pretrained(zephyr_model)"
   ]
  },
  {
   "cell_type": "code",
   "execution_count": 4,
   "metadata": {},
   "outputs": [],
   "source": [
    "from transformers import pipeline, TextStreamer\n",
    "\n",
    "streamer = TextStreamer(zephyr_tokenizer)\n",
    "generate = pipeline(\"text-generation\", model=zephyr_model, tokenizer=zephyr_tokenizer, streamer=streamer)"
   ]
  },
  {
   "cell_type": "markdown",
   "metadata": {},
   "source": [
    "#### prepare data"
   ]
  },
  {
   "cell_type": "code",
   "execution_count": 5,
   "metadata": {},
   "outputs": [],
   "source": [
    "from datasets import load_dataset\n",
    "dataset = load_dataset('imdb')"
   ]
  },
  {
   "cell_type": "code",
   "execution_count": 6,
   "metadata": {},
   "outputs": [
    {
     "data": {
      "text/plain": [
       "DatasetDict({\n",
       "    train: Dataset({\n",
       "        features: ['text', 'label'],\n",
       "        num_rows: 25000\n",
       "    })\n",
       "    test: Dataset({\n",
       "        features: ['text', 'label'],\n",
       "        num_rows: 25000\n",
       "    })\n",
       "    unsupervised: Dataset({\n",
       "        features: ['text', 'label'],\n",
       "        num_rows: 50000\n",
       "    })\n",
       "})"
      ]
     },
     "execution_count": 6,
     "metadata": {},
     "output_type": "execute_result"
    }
   ],
   "source": [
    "dataset"
   ]
  },
  {
   "cell_type": "code",
   "execution_count": 7,
   "metadata": {},
   "outputs": [],
   "source": [
    "import pandas as pd\n",
    "data_pd= pd.DataFrame(dataset['train'])"
   ]
  },
  {
   "cell_type": "code",
   "execution_count": 8,
   "metadata": {},
   "outputs": [],
   "source": [
    "data_neg = data_pd.iloc[0:10]\n",
    "data_pos = data_pd.iloc[12500:12510]\n",
    "dataset_new= pd.concat([data_neg,data_pos], axis=0)\n",
    "# change the index of the dataframe, otherwise there would be errors\n",
    "dataset_new.index=range(0,20)"
   ]
  },
  {
   "cell_type": "markdown",
   "metadata": {},
   "source": [
    "## zero_slot engineering"
   ]
  },
  {
   "cell_type": "code",
   "execution_count": null,
   "metadata": {},
   "outputs": [],
   "source": [
    "prompt_template_zero_slot = '\\n Given the above review we have two two classes.\\n class_0: In such film reviews, customers complain about something they do not like and think this film is not satisfactory. \\n class_1: In such film reviews, customers show positive emotions, they might mention something that they like.'"
   ]
  },
  {
   "cell_type": "code",
   "execution_count": null,
   "metadata": {},
   "outputs": [
    {
     "name": "stdout",
     "output_type": "stream",
     "text": [
      "\n",
      " Given the above review we have two two classes.\n",
      " class_0: In such film reviews, customers complain about something they do not like and think this film is not satisfactory. \n",
      " class_1: In such film reviews, customers show positive emotions, they might mention something that they like.\n"
     ]
    }
   ],
   "source": [
    "print(prompt_template_one)"
   ]
  },
  {
   "cell_type": "code",
   "execution_count": null,
   "metadata": {},
   "outputs": [],
   "source": [
    "def make_prompt_for_sentiment_analysis_1(text):\n",
    "    \n",
    "    \"\"\"Construct a prompt that instructs the model to analyze a text in terms of sentiment.\n",
    "\n",
    "    Arguments:\n",
    "        text (str): The text to be analyzed in terms of sentiment.\n",
    "\n",
    "    Returns:\n",
    "        A prompt to feed into an zephyr model.\n",
    "    \"\"\"\n",
    "\n",
    "    # YOUR CODE HERE\n",
    "   \n",
    "    system = '### System: You are an AI assistant that follows instruction extremely well.\\n### Human:\\n'\n",
    "    user = ' '.join([text, prompt_template_zero_slot])\n",
    "    assistant = '\\n Please classify this film review into one class out of these two classes,and just output the label without anymore word \\n ### Assistant:\\n'\n",
    "    prompt = ' '.join([system,user,assistant])\n",
    "    \n",
    "    return prompt"
   ]
  },
  {
   "cell_type": "code",
   "execution_count": 13,
   "metadata": {},
   "outputs": [],
   "source": [
    "from sklearn.metrics import classification_report\n",
    "\n",
    "def metrics_for_templates(templates_function,data):\n",
    "    \n",
    "    labels_gold=[]\n",
    "    labels_pre=[]\n",
    "    \n",
    "    for i in range(len(data)):\n",
    "        text = data['text'].iloc[i]\n",
    "        text_truncated = ' '.join(text.split()[:200])\n",
    "        prompt = templates_function(text_truncated)\n",
    "        output = generate(prompt, max_new_tokens=3)\n",
    "        content = output[0]['generated_text']\n",
    "        index = content.find(\"Assistant:\")\n",
    "        label = content[index+12:]\n",
    "        pre = 0 if label =='class_0' else 1\n",
    "        labels_pre.append(pre)\n",
    "        labels_gold.append(data.label[i])\n",
    "    \n",
    "    print(classification_report(labels_gold,labels_pre))\n",
    "\n",
    "    \n"
   ]
  },
  {
   "cell_type": "code",
   "execution_count": 144,
   "metadata": {},
   "outputs": [
    {
     "name": "stdout",
     "output_type": "stream",
     "text": [
      " class_0\n",
      " class_0\n",
      " class_0\n",
      " class_0\n",
      " class_0\n",
      " class_0\n",
      " class_0\n",
      " class_0\n",
      " class_0\n",
      " class_0\n",
      " class_0\n",
      " class_1\n",
      " class_0\n",
      " class_1\n",
      " class_1\n",
      " class_1\n",
      " class_1\n",
      " class_0\n",
      " class_1\n",
      " class_1\n",
      "              precision    recall  f1-score   support\n",
      "\n",
      "           0       0.77      1.00      0.87        10\n",
      "           1       1.00      0.70      0.82        10\n",
      "\n",
      "    accuracy                           0.85        20\n",
      "   macro avg       0.88      0.85      0.85        20\n",
      "weighted avg       0.88      0.85      0.85        20\n",
      "\n",
      "CPU times: total: 35min 46s\n",
      "Wall time: 10min 37s\n"
     ]
    }
   ],
   "source": [
    "%%time\n",
    "\n",
    "streamer.skip_prompt = True \n",
    "metrics_for_templates(make_prompt_for_sentiment_analysis_1,dataset_new)"
   ]
  },
  {
   "cell_type": "markdown",
   "metadata": {},
   "source": [
    "## Find few slots"
   ]
  },
  {
   "cell_type": "code",
   "execution_count": 193,
   "metadata": {},
   "outputs": [
    {
     "name": "stdout",
     "output_type": "stream",
     "text": [
      "4\n"
     ]
    },
    {
     "data": {
      "text/plain": [
       "'Primary plot!Primary direction!Poor interpretation.'"
      ]
     },
     "execution_count": 193,
     "metadata": {},
     "output_type": "execute_result"
    }
   ],
   "source": [
    "data_test= pd.DataFrame(dataset['test'])\n",
    "data_test_neg = data_test[0:12500]\n",
    "list_length=[]\n",
    "\n",
    "for i in range(len(data_test_neg)):\n",
    "    text=data_test_neg['text'].iloc[i]\n",
    "    l= len(text.split()) \n",
    "    list_length.append(l)\n",
    "\n",
    "index = np.argmin(list_length)\n",
    "data_test_neg['text'].iloc[index]\n",
    "print(list_length[index])\n",
    "data_test_neg['text'].iloc[index]    "
   ]
  },
  {
   "cell_type": "code",
   "execution_count": 194,
   "metadata": {},
   "outputs": [
    {
     "data": {
      "text/plain": [
       "array([ 5220,  6845,  8658, ...,  5672, 12431,  8182], dtype=int64)"
      ]
     },
     "execution_count": 194,
     "metadata": {},
     "output_type": "execute_result"
    }
   ],
   "source": [
    "np.argsort(list_length)"
   ]
  },
  {
   "cell_type": "code",
   "execution_count": 195,
   "metadata": {},
   "outputs": [
    {
     "data": {
      "text/plain": [
       "'Primary plot!Primary direction!Poor interpretation.'"
      ]
     },
     "execution_count": 195,
     "metadata": {},
     "output_type": "execute_result"
    }
   ],
   "source": [
    "data_test_neg['text'].iloc[5220]"
   ]
  },
  {
   "cell_type": "code",
   "execution_count": 196,
   "metadata": {},
   "outputs": [
    {
     "data": {
      "text/plain": [
       "'Read the book, forget the movie!'"
      ]
     },
     "execution_count": 196,
     "metadata": {},
     "output_type": "execute_result"
    }
   ],
   "source": [
    "data_test_neg['text'].iloc[6845]"
   ]
  },
  {
   "cell_type": "code",
   "execution_count": 185,
   "metadata": {},
   "outputs": [
    {
     "name": "stdout",
     "output_type": "stream",
     "text": [
      "10\n"
     ]
    },
    {
     "data": {
      "text/plain": [
       "'Brilliant and moving performances by Tom Courtenay and Peter Finch.'"
      ]
     },
     "execution_count": 185,
     "metadata": {},
     "output_type": "execute_result"
    }
   ],
   "source": [
    "data_test_pos = data_test[12500:]\n",
    "list_length=[]\n",
    "\n",
    "for i in data_test_pos.index:\n",
    "    text = data_test_pos['text'][i]\n",
    "    l= len(text.split()) \n",
    "    list_length.append(l)\n",
    "\n",
    "index = np.argmin(list_length)\n",
    "\n",
    "print(list_length[index])\n",
    "data_test_pos['text'][index+12500]"
   ]
  },
  {
   "cell_type": "code",
   "execution_count": 188,
   "metadata": {},
   "outputs": [
    {
     "data": {
      "text/plain": [
       "array([ 110, 2258, 9155, ..., 3750, 4012, 8632], dtype=int64)"
      ]
     },
     "execution_count": 188,
     "metadata": {},
     "output_type": "execute_result"
    }
   ],
   "source": [
    "np.argsort(list_length)"
   ]
  },
  {
   "cell_type": "code",
   "execution_count": 192,
   "metadata": {},
   "outputs": [
    {
     "data": {
      "text/plain": [
       "'This is a great movie. Too bad it is not available on home video.'"
      ]
     },
     "execution_count": 192,
     "metadata": {},
     "output_type": "execute_result"
    }
   ],
   "source": [
    "data_test_pos['text'][2258+12500]"
   ]
  },
  {
   "cell_type": "markdown",
   "metadata": {},
   "source": [
    "## Few slots prompt engineering"
   ]
  },
  {
   "cell_type": "code",
   "execution_count": 11,
   "metadata": {},
   "outputs": [],
   "source": [
    "# few positive slots\n",
    "reviews_pos_1 = 'Brilliant and moving performances by Tom Courtenay and Peter Finch.'\n",
    "reviews_pos_2 = 'This is a great movie. Too bad it is not available on home video.'\n",
    "\n",
    "# few negative slots\n",
    "reviews_neg_1 = 'Primary plot!Primary direction!Poor interpretation.'\n",
    "reviews_neg_2 = 'Read the book, forget the movie!'"
   ]
  },
  {
   "cell_type": "code",
   "execution_count": 12,
   "metadata": {},
   "outputs": [],
   "source": [
    "review_pos_part = \"First review:\" + \" \" + reviews_pos_1 + \"\\n\" + \"Second review:\" + \" \" + reviews_pos_2\n",
    "review_neg_part = \"Third review:\" + \" \" + reviews_neg_1 + \"\\n\" + \"Fourth review:\" + \" \" + reviews_neg_2\n",
    "prompt_template_few_slots = \"\\n\" + review_pos_part + \"\\n\" + review_neg_part + \"\\n\" + \"Above, the first two reviews belong to 'class_1'; the last two reviews belong to 'class_0'.\"\n",
    "transition = \"Please classify the following film review into one class out of these two classes,and the output format should be the same as 'This review belongs to 'class_X'' \\nNew review:\""
   ]
  },
  {
   "cell_type": "code",
   "execution_count": 13,
   "metadata": {},
   "outputs": [],
   "source": [
    "def make_prompt_for_sentiment_analysis_2(text):\n",
    "    \n",
    "    \"\"\"Construct a prompt that instructs the model to analyze a text in terms of sentiment.\n",
    "\n",
    "    Arguments:\n",
    "        text (str): The text to be analyzed in terms of sentiment.\n",
    "\n",
    "    Returns:\n",
    "        A prompt to feed into an zephyr model.\n",
    "    \"\"\"\n",
    "    # YOUR CODE HERE\n",
    "   \n",
    "    system = '### System: You are an AI assistant that follows instruction extremely well.\\n### Human:'\n",
    "    user = ' '.join([prompt_template_few_slots,transition,text])\n",
    "    assistant = '\\n### Assistant:\\n'\n",
    "    prompt = ' '.join([system,user,assistant])\n",
    "    \n",
    "    return prompt"
   ]
  },
  {
   "cell_type": "code",
   "execution_count": 17,
   "metadata": {},
   "outputs": [],
   "source": [
    "from sklearn.metrics import classification_report\n",
    "\n",
    "def metrics_for_templates_2(templates_function,data):\n",
    "    \n",
    "    labels_gold=[]\n",
    "    labels_pre=[]\n",
    "    \n",
    "    for i in range(len(data)):\n",
    "        text = data['text'].iloc[i]\n",
    "        text_truncated = ' '.join(text.split()[:200])\n",
    "        prompt = templates_function(text_truncated)\n",
    "        output = generate(prompt, max_new_tokens=15)\n",
    "        content = output[0]['generated_text']\n",
    "        index = content.find(\"Assistant:\")\n",
    "        pre = 0 if \"class_0\" in content[index:] else 1\n",
    "        labels_pre.append(pre)\n",
    "        labels_gold.append(data.label[i])\n",
    "    \n",
    "    print(classification_report(labels_gold,labels_pre))"
   ]
  },
  {
   "cell_type": "code",
   "execution_count": 18,
   "metadata": {},
   "outputs": [
    {
     "name": "stdout",
     "output_type": "stream",
     "text": [
      "This review belongs to 'class_1'.\n",
      "This review belongs to 'class_0'.\n",
      "This review belongs to 'class_0'.\n",
      "This film review belongs to 'class_0'.\n",
      "This review belongs to 'class_0'.\n",
      "This review belongs to 'class_0'.\n",
      "This review belongs to 'class_0'.\n",
      "This review belongs to 'class_0'.\n",
      "This review belongs to 'class_0'.\n",
      "This review belongs to 'class_0'.\n",
      "This review belongs to 'class_0'.\n",
      "This review belongs to 'class_1'.\n",
      "This review belongs to 'class_1'.\n",
      "This review belongs to 'class_1'.\n",
      "This review belongs to 'class_1'.\n",
      "This review belongs to 'class_1'.\n",
      "This review belongs to 'class_1'.\n",
      "This review belongs to 'class_1'.\n",
      "This review belongs to 'class_1'.\n",
      "This review belongs to 'class_1'.\n",
      "              precision    recall  f1-score   support\n",
      "\n",
      "           0       0.90      0.90      0.90        10\n",
      "           1       0.90      0.90      0.90        10\n",
      "\n",
      "    accuracy                           0.90        20\n",
      "   macro avg       0.90      0.90      0.90        20\n",
      "weighted avg       0.90      0.90      0.90        20\n",
      "\n",
      "CPU times: total: 24min 52s\n",
      "Wall time: 8min 27s\n"
     ]
    }
   ],
   "source": [
    "%%time\n",
    "\n",
    "streamer.skip_prompt = True \n",
    "metrics_for_templates_2(make_prompt_for_sentiment_analysis_2,dataset_new)"
   ]
  },
  {
   "cell_type": "markdown",
   "metadata": {},
   "source": [
    "## Baseline Prompt Engineering"
   ]
  },
  {
   "cell_type": "code",
   "execution_count": 23,
   "metadata": {},
   "outputs": [],
   "source": [
    "prompt_template_baseline = \"\\n Given the above review we have two two classes. 'class_0' and 'class_1'.\""
   ]
  },
  {
   "cell_type": "code",
   "execution_count": 24,
   "metadata": {},
   "outputs": [],
   "source": [
    "def make_prompt_for_sentiment_analysis_baseline(text):\n",
    "    \n",
    "    \"\"\"Construct a prompt that instructs the model to analyze a text in terms of sentiment.\n",
    "\n",
    "    Arguments:\n",
    "        text (str): The text to be analyzed in terms of sentiment.\n",
    "\n",
    "    Returns:\n",
    "        A prompt to feed into an zephyr model.\n",
    "    \"\"\"\n",
    "\n",
    "    # YOUR CODE HERE\n",
    "   \n",
    "    system = '### System: You are an AI assistant that follows instruction extremely well.\\n### Human:\\n'\n",
    "    user = ' '.join([text, prompt_template_baseline])\n",
    "    assistant = '\\n Please classify this film review into one class out of these two classes,and just output the label without anymore word \\n ### Assistant:\\n'\n",
    "    prompt = ' '.join([system,user,assistant])\n",
    "    \n",
    "    return prompt"
   ]
  },
  {
   "cell_type": "code",
   "execution_count": 25,
   "metadata": {},
   "outputs": [],
   "source": [
    "text = dataset_new.text.iloc[0]\n",
    "text_truncated = ' '.join(text.split()[:200])\n",
    "prompt = make_prompt_for_sentiment_analysis_baseline(text_truncated)"
   ]
  },
  {
   "cell_type": "code",
   "execution_count": 28,
   "metadata": {},
   "outputs": [
    {
     "name": "stdout",
     "output_type": "stream",
     "text": [
      " class_0\n"
     ]
    }
   ],
   "source": [
    "output = generate(prompt, max_new_tokens=15)\n",
    "content = output[0]['generated_text']"
   ]
  },
  {
   "cell_type": "code",
   "execution_count": 30,
   "metadata": {},
   "outputs": [],
   "source": [
    "from sklearn.metrics import classification_report\n",
    "\n",
    "def metrics_for_templates_baseline(templates_function,data):\n",
    "    \n",
    "    labels_gold=[]\n",
    "    labels_pre=[]\n",
    "    \n",
    "    for i in range(len(data)):\n",
    "        text = data['text'].iloc[i]\n",
    "        text_truncated = ' '.join(text.split()[:200])\n",
    "        prompt = templates_function(text_truncated)\n",
    "        output = generate(prompt, max_new_tokens=15)\n",
    "        content = output[0]['generated_text']\n",
    "        index = content.find(\"Assistant:\")\n",
    "        pre = 0 if \"class_0\" in content[index:] else 1\n",
    "        labels_pre.append(pre)\n",
    "        labels_gold.append(data.label[i])\n",
    "    \n",
    "    print(classification_report(labels_gold,labels_pre))"
   ]
  },
  {
   "cell_type": "code",
   "execution_count": 32,
   "metadata": {},
   "outputs": [
    {
     "name": "stdout",
     "output_type": "stream",
     "text": [
      " class_0\n",
      " class_1\n",
      " class_0\n",
      " class_1\n",
      " class_1\n",
      " class_1 (unwatchable trash)\n",
      " class_1 (negative review)\n",
      " class_1\n",
      " class_1 (negative review)\n",
      " class_0\n",
      " class_1\n",
      " class_0\n",
      " class_1\n",
      " class_1\n",
      " class_1\n",
      " class_0\n",
      " class_1\n",
      " class_1\n",
      " class_1\n",
      " class_0\n",
      "              precision    recall  f1-score   support\n",
      "\n",
      "           0       0.50      0.30      0.37        10\n",
      "           1       0.50      0.70      0.58        10\n",
      "\n",
      "    accuracy                           0.50        20\n",
      "   macro avg       0.50      0.50      0.48        20\n",
      "weighted avg       0.50      0.50      0.48        20\n",
      "\n",
      "CPU times: total: 35min 36s\n",
      "Wall time: 8min 59s\n"
     ]
    }
   ],
   "source": [
    "%%time\n",
    "\n",
    "streamer.skip_prompt = True \n",
    "metrics_for_templates_baseline(make_prompt_for_sentiment_analysis_baseline,dataset_new)"
   ]
  }
 ],
 "metadata": {
  "kernelspec": {
   "display_name": "Python 3",
   "language": "python",
   "name": "python3"
  },
  "language_info": {
   "codemirror_mode": {
    "name": "ipython",
    "version": 3
   },
   "file_extension": ".py",
   "mimetype": "text/x-python",
   "name": "python",
   "nbconvert_exporter": "python",
   "pygments_lexer": "ipython3",
   "version": "3.9.13"
  }
 },
 "nbformat": 4,
 "nbformat_minor": 2
}
